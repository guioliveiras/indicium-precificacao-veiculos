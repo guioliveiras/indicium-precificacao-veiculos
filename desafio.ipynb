{
 "cells": [
  {
   "cell_type": "markdown",
   "metadata": {},
   "source": [
    "## Importando Bibliotecas"
   ]
  },
  {
   "cell_type": "code",
   "execution_count": null,
   "metadata": {},
   "outputs": [],
   "source": [
    "# Bibliotecas para tratar dados\n",
    "import pandas as pd\n",
    "\n",
    "# Bibliotecas para EDA\n",
    "import matplotlib.pyplot as plt\n",
    "import seaborn as sns\n",
    "\n",
    "# Configurando o estilo dos gráficos do Seaborn (opcional, apenas para melhorar a estética)\n",
    "sns.set(style='whitegrid')\n",
    "\n",
    "# Configurar para não exibir warnings\n",
    "import warnings\n",
    "\n",
    "warnings.filterwarnings(\"ignore\")\n",
    "\n",
    "# Configurando para exibir até 15 linhas de um DataFrame do Pandas\n",
    "pd.set_option(\"display.max_rows\", 15)\n",
    "\n",
    "# Configurando para exibir todas as colunas de um DataFrame do Pandas\n",
    "pd.set_option(\"display.max_columns\", None)\n",
    "\n",
    "# Configurando a opção para evitar notação científica\n",
    "pd.set_option('display.float_format', lambda x: '{:.2f}'.format(x))\n",
    "\n",
    "\n"
   ]
  },
  {
   "cell_type": "markdown",
   "metadata": {},
   "source": [
    "## Carregando Dataset de Treino"
   ]
  },
  {
   "cell_type": "code",
   "execution_count": null,
   "metadata": {},
   "outputs": [],
   "source": [
    "train_data = pd.read_csv('datasets/cars_train.csv')\n",
    "train_data.head()"
   ]
  },
  {
   "cell_type": "code",
   "execution_count": null,
   "metadata": {},
   "outputs": [],
   "source": [
    "print(f\"O dataframe possui {train_data.shape[0]} linhas e {train_data.shape[1]} colunas.\")"
   ]
  },
  {
   "cell_type": "code",
   "execution_count": null,
   "metadata": {},
   "outputs": [],
   "source": [
    "train_data.info()"
   ]
  },
  {
   "cell_type": "code",
   "execution_count": null,
   "metadata": {},
   "outputs": [],
   "source": [
    "numerics = [\"int16\", \"int32\", \"int64\", \"float16\", \"float32\", \"float64\"]\n",
    "\n",
    "numericas = train_data.select_dtypes(include=numerics)\n",
    "\n",
    "nao_numericas = train_data.select_dtypes(exclude=numerics)\n",
    "\n",
    "print(\n",
    "    f\"Temos {numericas.shape[1]} colunas numéricas e {nao_numericas.shape[1]} colunas não-numéricas.\"\n",
    ")"
   ]
  },
  {
   "cell_type": "markdown",
   "metadata": {},
   "source": [
    "Percebe-se que algumas colunas apresentam dados ausentes (NaN). São elas: \n",
    "\n",
    "- coluna #1 (num_fotos)\n",
    "- coluna #20 (dono_aceita_troca) \n",
    "- coluna #21 (veiculo_único_dono) \n",
    "- coluna #22 (revisoes_concessionaria) \n",
    "- coluna #23 (ipva_pago) \n",
    "- coluna #24 (veiculo_licenciado) \n",
    "- coluna #25 (garantia_de_fábrica) \n",
    "- coluna #26 (revisoes_dentro_agenda)\n",
    "- coluna #27 (veiculo_alienado)\n",
    "\n",
    "Nesse sentido, é importante realizar uma avaliação dessas colunas e, se possível, aplicar um tratamento adequado para deixar nossa base de treino em condições adequadas."
   ]
  },
  {
   "cell_type": "markdown",
   "metadata": {},
   "source": [
    "## Tratando o Dataset de Treino"
   ]
  },
  {
   "cell_type": "code",
   "execution_count": null,
   "metadata": {},
   "outputs": [],
   "source": [
    "train_data.num_fotos.unique(), \\\n",
    "    train_data.dono_aceita_troca.unique(), \\\n",
    "        train_data.veiculo_único_dono.unique(), \\\n",
    "            train_data.revisoes_concessionaria.unique(), \\\n",
    "                train_data.ipva_pago.unique(), \\\n",
    "                    train_data.veiculo_licenciado.unique(), \\\n",
    "                        train_data.garantia_de_fábrica.unique(), \\\n",
    "                            train_data.revisoes_dentro_agenda.unique(), \\\n",
    "                                train_data.veiculo_alienado.unique()"
   ]
  },
  {
   "cell_type": "markdown",
   "metadata": {},
   "source": [
    "Na coluna #1 (num_fotos) e da coluna #20 (dono_aceita_troca) até a coluna #26 (revisoes_dentro_agenda) é importante realizar uma avaliação minuciosa e, se possível, aplicar um tratamento adequado para deixar a base de treino em condições adequadas.\n",
    "\n",
    "No que diz respeito à coluna #27 (veiculo_alienado), nota-se que ela está preenchida inteiramente com valores NaN, ou seja, todos os seus dados estão ausentes. Diante dessa situação, podemos inferir que esta coluna não possui informações relevantes para a nossa análise. A presença generalizada de valores ausentes sugere que tal variável pode não ter sido devidamente preenchida ou que não apresenta dados significativos para a investigação em questão.\n",
    "\n",
    "Portanto, considerando essa constatação, é sensato desconsiderar a coluna 'veiculo_alienado' em nossa análise, uma vez que sua ausência de informações inviabiliza qualquer conclusão ou insight relevante que possa ser obtido a partir dela. "
   ]
  },
  {
   "cell_type": "code",
   "execution_count": null,
   "metadata": {},
   "outputs": [],
   "source": [
    "# Removendo a coluna #27 'veiculo_alienado'\n",
    "\n",
    "train_data = train_data.drop(columns=['veiculo_alienado'])\n",
    "\n",
    "# Arredondando as casas decimais da coluna preço\n",
    "train_data['preco'] = train_data['preco'].round(2)"
   ]
  },
  {
   "cell_type": "code",
   "execution_count": null,
   "metadata": {},
   "outputs": [],
   "source": [
    "print(f\"O dataframe possui {train_data.shape[0]} linhas e {train_data.shape[1]} colunas.\")"
   ]
  },
  {
   "cell_type": "code",
   "execution_count": null,
   "metadata": {},
   "outputs": [],
   "source": [
    "# Substituindo os NaN nas colunas #1 (num_fotos) e da coluna #20 (dono_aceita_troca) até a coluna #26 (revisoes_dentro_agenda)\n",
    "\n",
    "train_data['num_fotos'] = train_data['num_fotos'].fillna(0)\n",
    "train_data['dono_aceita_troca'] = train_data['dono_aceita_troca'].fillna('Não aceita troca') \n",
    "train_data['veiculo_único_dono'] = train_data['veiculo_único_dono'].fillna('Mais de um dono') \n",
    "train_data['revisoes_concessionaria'] = train_data['revisoes_concessionaria'].fillna('Nem todas as revisões feitas pela concessionária') \n",
    "train_data['ipva_pago'] = train_data['ipva_pago'].fillna('IPVA não pago') \n",
    "train_data['veiculo_licenciado'] = train_data['veiculo_licenciado'].fillna('Não Licenciado') \n",
    "train_data['garantia_de_fábrica'] = train_data['garantia_de_fábrica'].fillna('Não possui garantia de fábrica') \n",
    "train_data['revisoes_dentro_agenda'] = train_data['revisoes_dentro_agenda'].fillna('Nem todas as revisões feitas pela agenda do carro') \n",
    "\n"
   ]
  },
  {
   "cell_type": "code",
   "execution_count": null,
   "metadata": {},
   "outputs": [],
   "source": [
    "train_data.info()"
   ]
  },
  {
   "cell_type": "code",
   "execution_count": null,
   "metadata": {},
   "outputs": [],
   "source": [
    "train_data.head()"
   ]
  },
  {
   "cell_type": "markdown",
   "metadata": {},
   "source": [
    "Com as substituições realizadas, o dataset agora possui uma melhor qualidade, pois os valores NaN foram adequadamente tratados. Essas alterações garantem a integridade dos dados, possibilitando análises mais precisas e confiáveis."
   ]
  },
  {
   "cell_type": "markdown",
   "metadata": {},
   "source": [
    "## Analisando os Dados\n"
   ]
  },
  {
   "cell_type": "code",
   "execution_count": null,
   "metadata": {},
   "outputs": [],
   "source": [
    "train_data.info()"
   ]
  },
  {
   "cell_type": "markdown",
   "metadata": {},
   "source": [
    "### Resumo estatístico para as colunas numéricas"
   ]
  },
  {
   "cell_type": "code",
   "execution_count": null,
   "metadata": {},
   "outputs": [],
   "source": [
    "# Resumo estatístico para as colunas numéricas\n",
    "estatisticas_numericas = train_data.describe()\n",
    "print(\"Estatísticas Numéricas:\")\n",
    "print(estatisticas_numericas)"
   ]
  },
  {
   "cell_type": "markdown",
   "metadata": {},
   "source": [
    "### Hipóteses de Negócio"
   ]
  },
  {
   "cell_type": "code",
   "execution_count": null,
   "metadata": {},
   "outputs": [],
   "source": [
    "# Análise estatística da variável \"preco\"\n",
    "preco_stats = train_data['preco'].describe()\n",
    "\n",
    "# Calculando a mediana\n",
    "mediana_preco = train_data['preco'].median()\n",
    "\n",
    "# Calculando o desvio padrão\n",
    "desvio_padrao_preco = train_data['preco'].std()\n",
    "\n",
    "# Visualização do Boxplot na orientação horizontal com eixo y em formato de número inteiro\n",
    "plt.figure(figsize=(8, 6))\n",
    "plt.boxplot(train_data['preco'])\n",
    "plt.title('Distribuição dos preços dos veículos')\n",
    "plt.xlabel('Preço')\n",
    "plt.show()\n",
    "\n",
    "# Exibindo as estatísticas descritivas sem notação científica\n",
    "print(f\"Mediana do preço: R$ {mediana_preco:.2f}\")\n",
    "print(f\"Desvio padrão do preço: R$ {desvio_padrao_preco:.2f}\")"
   ]
  },
  {
   "cell_type": "code",
   "execution_count": null,
   "metadata": {},
   "outputs": [],
   "source": [
    "# Plot do histograma\n",
    "plt.figure(figsize=(10, 6))\n",
    "plt.hist(train_data['preco'], bins=50, color='blue', alpha=0.7)\n",
    "plt.xlabel('Preço')\n",
    "plt.ylabel('Contagem')\n",
    "plt.title('Histograma da Distribuição de Preços')\n",
    "\n",
    "# Calculando e formatando os valores da média e mediana para duas casas decimais\n",
    "media = train_data['preco'].mean()\n",
    "mediana = train_data['preco'].median()\n",
    "media_label = f'Média: R${media:.2f}'\n",
    "mediana_label = f'Mediana: R${mediana:.2f}'\n",
    "\n",
    "# Adicionando as legendas da média e mediana\n",
    "plt.axvline(media, color='red', linestyle='dashed', linewidth=2, label=media_label)\n",
    "plt.axvline(mediana, color='green', linestyle='dashed', linewidth=2, label=mediana_label)\n",
    "\n",
    "# Retirando a notação científica no eixo X (preço)\n",
    "plt.ticklabel_format(axis='x', style='plain')  \n",
    "\n",
    "# Plotando o gráfico\n",
    "plt.legend()\n",
    "plt.show()"
   ]
  },
  {
   "cell_type": "markdown",
   "metadata": {},
   "source": [
    "A presença de outliers (valores extremos) nos preços dos veículos populares pode estar influenciando a média, puxando-a para cima. Os outliers podem ser preços excepcionalmente altos de alguns carros populares, que podem ser raros ou possuir características especiais. Enquanto a mediana não é tão afetada por outliers, a média pode ser distorcida por eles."
   ]
  },
  {
   "cell_type": "markdown",
   "metadata": {},
   "source": [
    "#### Hipótese 2: Carros sem garantia de fábrica são mais baratos."
   ]
  },
  {
   "cell_type": "code",
   "execution_count": null,
   "metadata": {},
   "outputs": [],
   "source": [
    "# Contagem de veículos com e sem garantia de fábrica\n",
    "garantia_counts = train_data['garantia_de_fábrica'].value_counts()\n",
    "\n",
    "# Gráfico de pizza\n",
    "plt.figure(figsize=(6, 6))\n",
    "plt.pie(garantia_counts, labels=garantia_counts.index, autopct='%1.2f%%', startangle=90, colors=['lightskyblue', 'lightcoral'])\n",
    "plt.title('Proporção de Veículos com Garantia de Fábrica')\n",
    "plt.axis('equal')\n",
    "plt.show()"
   ]
  },
  {
   "cell_type": "code",
   "execution_count": null,
   "metadata": {},
   "outputs": [],
   "source": [
    "# Valor médio dos carros com garantia\n",
    "valor_medio_com_garantia = train_data[train_data['garantia_de_fábrica'] == \"Não possui garantia de fábrica\"]['preco'].mean()\n",
    "\n",
    "# Valor médio dos carros sem garantia\n",
    "valor_medio_sem_garantia = train_data[train_data['garantia_de_fábrica'] == \"Garantia de fábrica\"]['preco'].mean()\n",
    "\n",
    "# Mostrar os resultados\n",
    "print(f\"Valor médio dos carros com garantia: R${valor_medio_com_garantia:.2f}\")\n",
    "print(f\"Valor médio dos carros sem garantia: R${valor_medio_sem_garantia:.2f}\")"
   ]
  },
  {
   "cell_type": "markdown",
   "metadata": {},
   "source": [
    "Com base nos dados do dataset e no gráfico, é possível observar que a maioria dos carros não possui garantia de fábrica, mas o preço médio desses carros é maior do que os que possuem garantia, pode indicar que, apesar da ausência de garantia de fábrica, os carros sem garantia possuem outras características ou fatores que os tornam mais valorizados e, consequentemente, com preços mais altos. Alguns possíveis motivos para essa observação poderiam ser:\n",
    "\n",
    "* Carros de Luxo ou Esportivos\n",
    "* Carros de Edição Limitada ou Colecionador"
   ]
  },
  {
   "cell_type": "markdown",
   "metadata": {},
   "source": [
    "#### Hipótese 3: A valorização do preço médio dos veículos ao longo dos anos está associada ao aumento da demanda por veículos mais novos"
   ]
  },
  {
   "cell_type": "code",
   "execution_count": null,
   "metadata": {},
   "outputs": [],
   "source": [
    "#Gráfico de Linha\n",
    "\n",
    "plt.figure(figsize=(10, 6))\n",
    "preco_medio_por_ano = train_data.groupby('ano_de_fabricacao')['preco'].mean()\n",
    "plt.plot(preco_medio_por_ano.index, preco_medio_por_ano.values, marker='o', color='orange')\n",
    "plt.xlabel('Ano de Fabricação')\n",
    "plt.ylabel('Preço Médio')\n",
    "plt.title('Evolução do Preço Médio por Ano de Fabricação')\n",
    "plt.grid(True)\n",
    "plt.show()"
   ]
  },
  {
   "cell_type": "code",
   "execution_count": null,
   "metadata": {},
   "outputs": [],
   "source": [
    "# Agrupar os dados por intervalos de 5 anos e calcular o preço médio\n",
    "train_data['ano_de_fabricacao_intervalo'] = train_data['ano_de_fabricacao'] // 5 * 5\n",
    "preco_medio_por_intervalo = train_data.groupby('ano_de_fabricacao_intervalo')['preco'].mean()\n",
    "\n",
    "# Criando o gráfico de linha com o preço médio em cada intervalo de 5 anos\n",
    "plt.figure(figsize=(10, 6))\n",
    "plt.plot(preco_medio_por_intervalo.index, preco_medio_por_intervalo.values, marker='o', color='orange')\n",
    "plt.xlabel('Ano de Fabricação (Intervalo de 5 anos)')\n",
    "plt.ylabel('Preço Médio')\n",
    "plt.title('Evolução do Preço Médio a cada 5 Anos de Fabricação')\n",
    "plt.grid(True)\n",
    "\n",
    "# Adicionando os valores do preço médio nos pontos\n",
    "for x, y in zip(preco_medio_por_intervalo.index, preco_medio_por_intervalo.values):\n",
    "    plt.text(x, y, f'R$ {y:.2f}', ha='right', va='bottom')\n",
    "\n",
    "# Plot\n",
    "plt.show()"
   ]
  },
  {
   "cell_type": "markdown",
   "metadata": {},
   "source": [
    " Observa-se que entre os anos de 2005 a 2010, o preço médio dos automóveis aumentou significativamente, chegando a mais que dobrar em relação aos anos anteriores. Essa variação expressiva pode ser influenciada pela presença de outliers, que são modelos mais novos ou edições especiais com preços excepcionalmente altos em comparação com os veículos comuns."
   ]
  },
  {
   "cell_type": "markdown",
   "metadata": {},
   "source": [
    "### Perguntas de Negócio"
   ]
  },
  {
   "cell_type": "markdown",
   "metadata": {},
   "source": [
    "#### Qual o melhor estado cadastrado na base de dados para se vender um carro de marca popular e por quê?"
   ]
  },
  {
   "cell_type": "code",
   "execution_count": null,
   "metadata": {},
   "outputs": [],
   "source": [
    "# Contagem de cada marca\n",
    "contagem_marcas = train_data['marca'].value_counts()\n",
    "\n",
    "# Selecionando as marcas mais frequentes como sendo as marcas populares\n",
    "marcas_populares = contagem_marcas.head(5).index.tolist()\n",
    "\n",
    "# Filtrando os dados para incluir apenas carros das marcas populares\n",
    "carros_populares = train_data[train_data['marca'].isin(marcas_populares)]\n",
    "\n",
    "# Calculando a média de preços dos carros de marcas populares por estado\n",
    "media_preco_por_estado = carros_populares.groupby('estado_vendedor')['preco'].mean().reset_index()\n",
    "\n",
    "# Encontrando o índice do estado com o maior preço médio\n",
    "indice_maior_preco = media_preco_por_estado['preco'].idxmax()\n",
    "\n",
    "# Obtendo o nome do estado correspondente\n",
    "estado_maior_preco = media_preco_por_estado.loc[indice_maior_preco, 'estado_vendedor']\n",
    "\n",
    "preco_medio_maior_preco = media_preco_por_estado.loc[indice_maior_preco, 'preco']\n",
    "\n",
    "print(f\"O estado com o maior preço médio dos carros das 5 marcas mais populares é: {estado_maior_preco}\")\n",
    "print(f\"O preço médio dos carros nesse estado é: R$ {preco_medio_maior_preco:.2f}\")"
   ]
  },
  {
   "cell_type": "markdown",
   "metadata": {},
   "source": [
    "#### Qual o melhor estado para se comprar uma picape com transmissão automática e por quê?"
   ]
  },
  {
   "cell_type": "code",
   "execution_count": null,
   "metadata": {},
   "outputs": [],
   "source": [
    "# Filtrando os dados para incluir apenas carros que são picapes e têm transmissão automática\n",
    "picapes_trans_auto = train_data[(train_data['tipo'] == 'Picape') & (train_data['cambio'] == 'Automática')]\n",
    "\n",
    "# Calculando a média de preços das picapes com transmissão automática por estado\n",
    "media_preco_por_estado = picapes_trans_auto.groupby('estado_vendedor')['preco'].mean().reset_index()\n",
    "\n",
    "# Encontrando o índice do estado com o menor preço médio\n",
    "indice_menor_preco = media_preco_por_estado['preco'].idxmin()\n",
    "\n",
    "# Obtendo o nome do estado correspondente\n",
    "estado_menor_preco = media_preco_por_estado.loc[indice_menor_preco, 'estado_vendedor']\n",
    "\n",
    "# Calculando o preço médio das picapes com transmissão automática para o estado com menor preço médio\n",
    "preco_medio_menor_preco = media_preco_por_estado.loc[indice_menor_preco, 'preco']\n",
    "\n",
    "print(f\"O estado com o menor preço médio das picapes com transmissão automática é: {estado_menor_preco}\")\n",
    "print(f\"O preço médio das picapes com transmissão automática nesse estado é: R$ {preco_medio_menor_preco:.2f}\")"
   ]
  },
  {
   "cell_type": "markdown",
   "metadata": {},
   "source": [
    "#### Qual o melhor estado para se comprar carros que ainda estejam dentro da garantia de fábrica e por quê?"
   ]
  },
  {
   "cell_type": "code",
   "execution_count": null,
   "metadata": {},
   "outputs": [],
   "source": [
    "# Filtrando os dados para incluir apenas carros que possuam garantia de fábrica\n",
    "carros_com_garantia = train_data[train_data['garantia_de_fábrica'] == 'Garantia de fábrica']\n",
    "\n",
    "# Calculando a média de preços dos carros com garantia de fábrica por estado\n",
    "media_preco_por_estado = carros_com_garantia.groupby('estado_vendedor')['preco'].mean().reset_index()\n",
    "\n",
    "# Encontrando o índice do estado com o menor preço médio\n",
    "indice_menor_preco = media_preco_por_estado['preco'].idxmin()\n",
    "\n",
    "# Obteno o nome do estado correspondente\n",
    "estado_menor_preco = media_preco_por_estado.loc[indice_menor_preco, 'estado_vendedor']\n",
    "\n",
    "# Calculando o preço médio dos carros com garantia de fábrica para o estado com menor preço médio\n",
    "preco_medio_menor_preco = media_preco_por_estado.loc[indice_menor_preco, 'preco']\n",
    "\n",
    "print(f\"O estado com o menor preço médio dos carros com garantia de fábrica é: {estado_menor_preco}\")\n",
    "print(f\"O preço médio dos carros com garantia de fábrica nesse estado é: R$ {preco_medio_menor_preco:.2f}\")"
   ]
  },
  {
   "cell_type": "markdown",
   "metadata": {},
   "source": [
    "## Modelo Preditivo"
   ]
  },
  {
   "cell_type": "markdown",
   "metadata": {},
   "source": [
    "O problema de prever o preço de um carro com base nas características fornecidas no dataset, nesse caso o mais indicado seria um modelo de regressão, pois o objetivo é estimar um valor contínuo, como uma variável numérica, utilizando um conjunto de variáveis independentes como entrada. Nesse dataset específico, a variável que desejamos prever é o preço do carro, que é uma variável numérica e contínua.\n",
    "\n",
    "Através de algoritmos de regressão, nosso objetivo é criar um modelo capaz de mapear as características do carro para um valor numérico correspondente ao seu preço, permitindo realizar previsões sobre o preço de carros desconhecidos com base nos padrões identificados nos dados de treinamento.\n",
    "\n",
    "Prós:\n",
    "\n",
    "- Eficiência computacional;\n",
    "- Interpretação dos coeficientes;\n",
    "- Simplicidade\n",
    "\n",
    "Contras: \n",
    "\n",
    "- Overfitting;\n",
    "- Sensibilidade a Outliers;\n",
    "- Suposições de erros"
   ]
  },
  {
   "cell_type": "markdown",
   "metadata": {},
   "source": [
    "#### Quais variáveis e/ou suas transformações você utilizou e por quê?"
   ]
  },
  {
   "cell_type": "markdown",
   "metadata": {},
   "source": [
    "As "
   ]
  },
  {
   "cell_type": "markdown",
   "metadata": {},
   "source": [
    "\n",
    "O problema de prever o preço de um carro com base nas características fornecidas no dataset é um problema de regressão.\n",
    "\n",
    "Em problemas de regressão, o objetivo é prever um valor contínuo, como uma variável numérica, a partir de um conjunto de variáveis independentes. No caso desse dataset, a variável alvo é o preço do carro, que é uma variável numérica e contínua."
   ]
  },
  {
   "cell_type": "code",
   "execution_count": null,
   "metadata": {},
   "outputs": [],
   "source": [
    "from sklearn.model_selection import train_test_split"
   ]
  },
  {
   "cell_type": "code",
   "execution_count": null,
   "metadata": {},
   "outputs": [],
   "source": [
    "X_train, X_val, y_train, y_val = train_test_split(train_data.drop('preco', axis=1),\n",
    "                                                  train_data['preco'],\n",
    "                                                  test_size=0.25,\n",
    "                                                  random_state=42)"
   ]
  },
  {
   "cell_type": "code",
   "execution_count": null,
   "metadata": {},
   "outputs": [],
   "source": [
    "X_train.shape, X_val.shape, y_train.shape, y_val.shape"
   ]
  },
  {
   "cell_type": "code",
   "execution_count": null,
   "metadata": {},
   "outputs": [],
   "source": [
    "X_train"
   ]
  },
  {
   "cell_type": "markdown",
   "metadata": {},
   "source": [
    "## Carregando Dataset de Test"
   ]
  }
 ],
 "metadata": {
  "kernelspec": {
   "display_name": "Python 3",
   "language": "python",
   "name": "python3"
  },
  "language_info": {
   "codemirror_mode": {
    "name": "ipython",
    "version": 3
   },
   "file_extension": ".py",
   "mimetype": "text/x-python",
   "name": "python",
   "nbconvert_exporter": "python",
   "pygments_lexer": "ipython3",
   "version": "3.11.4"
  },
  "orig_nbformat": 4
 },
 "nbformat": 4,
 "nbformat_minor": 2
}
