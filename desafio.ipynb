{
 "cells": [
  {
   "cell_type": "markdown",
   "metadata": {},
   "source": [
    "## Importando Bibliotecas"
   ]
  },
  {
   "cell_type": "code",
   "execution_count": 1,
   "metadata": {},
   "outputs": [],
   "source": [
    "# Bibliotecas para tratar dados\n",
    "import pandas as pd\n",
    "import numpy as np\n",
    "\n",
    "# Bibliotecas para EDA\n",
    "import matplotlib.pyplot as plt\n",
    "import seaborn as sns\n",
    "\n",
    "# Configurando o estilo dos gráficos do Seaborn (opcional, apenas para melhorar a estética)\n",
    "sns.set(style='whitegrid')\n",
    "\n",
    "# Configurar para não exibir warnings\n",
    "import warnings\n",
    "\n",
    "warnings.filterwarnings(\"ignore\")\n",
    "\n",
    "# Configurando para exibir até 15 linhas de um DataFrame do Pandas\n",
    "pd.set_option(\"display.max_rows\", 15)\n",
    "\n",
    "# Configurando para exibir todas as colunas de um DataFrame do Pandas\n",
    "pd.set_option(\"display.max_columns\", None)\n",
    "\n",
    "\n"
   ]
  },
  {
   "cell_type": "markdown",
   "metadata": {},
   "source": [
    "## Carregando Dataset de Treino"
   ]
  },
  {
   "cell_type": "code",
   "execution_count": 2,
   "metadata": {},
   "outputs": [
    {
     "data": {
      "text/html": [
       "<div>\n",
       "<style scoped>\n",
       "    .dataframe tbody tr th:only-of-type {\n",
       "        vertical-align: middle;\n",
       "    }\n",
       "\n",
       "    .dataframe tbody tr th {\n",
       "        vertical-align: top;\n",
       "    }\n",
       "\n",
       "    .dataframe thead th {\n",
       "        text-align: right;\n",
       "    }\n",
       "</style>\n",
       "<table border=\"1\" class=\"dataframe\">\n",
       "  <thead>\n",
       "    <tr style=\"text-align: right;\">\n",
       "      <th></th>\n",
       "      <th>id</th>\n",
       "      <th>num_fotos</th>\n",
       "      <th>marca</th>\n",
       "      <th>modelo</th>\n",
       "      <th>versao</th>\n",
       "      <th>ano_de_fabricacao</th>\n",
       "      <th>ano_modelo</th>\n",
       "      <th>hodometro</th>\n",
       "      <th>cambio</th>\n",
       "      <th>num_portas</th>\n",
       "      <th>tipo</th>\n",
       "      <th>blindado</th>\n",
       "      <th>cor</th>\n",
       "      <th>tipo_vendedor</th>\n",
       "      <th>cidade_vendedor</th>\n",
       "      <th>estado_vendedor</th>\n",
       "      <th>anunciante</th>\n",
       "      <th>entrega_delivery</th>\n",
       "      <th>troca</th>\n",
       "      <th>elegivel_revisao</th>\n",
       "      <th>dono_aceita_troca</th>\n",
       "      <th>veiculo_único_dono</th>\n",
       "      <th>revisoes_concessionaria</th>\n",
       "      <th>ipva_pago</th>\n",
       "      <th>veiculo_licenciado</th>\n",
       "      <th>garantia_de_fábrica</th>\n",
       "      <th>revisoes_dentro_agenda</th>\n",
       "      <th>veiculo_alienado</th>\n",
       "      <th>preco</th>\n",
       "    </tr>\n",
       "  </thead>\n",
       "  <tbody>\n",
       "    <tr>\n",
       "      <th>0</th>\n",
       "      <td>300716223898539419613863097469899222392</td>\n",
       "      <td>8.0</td>\n",
       "      <td>NISSAN</td>\n",
       "      <td>KICKS</td>\n",
       "      <td>1.6 16V FLEXSTART SL 4P XTRONIC</td>\n",
       "      <td>2017</td>\n",
       "      <td>2017</td>\n",
       "      <td>67772</td>\n",
       "      <td>CVT</td>\n",
       "      <td>4</td>\n",
       "      <td>Sedã</td>\n",
       "      <td>N</td>\n",
       "      <td>Branco</td>\n",
       "      <td>PF</td>\n",
       "      <td>Rio de Janeiro</td>\n",
       "      <td>São Paulo (SP)</td>\n",
       "      <td>Pessoa Física</td>\n",
       "      <td>False</td>\n",
       "      <td>False</td>\n",
       "      <td>False</td>\n",
       "      <td>NaN</td>\n",
       "      <td>NaN</td>\n",
       "      <td>Todas as revisões feitas pela concessionária</td>\n",
       "      <td>IPVA pago</td>\n",
       "      <td>Licenciado</td>\n",
       "      <td>NaN</td>\n",
       "      <td>NaN</td>\n",
       "      <td>NaN</td>\n",
       "      <td>74732.59008</td>\n",
       "    </tr>\n",
       "    <tr>\n",
       "      <th>1</th>\n",
       "      <td>279639842134129588306469566150288644214</td>\n",
       "      <td>8.0</td>\n",
       "      <td>JEEP</td>\n",
       "      <td>COMPASS</td>\n",
       "      <td>2.0 16V FLEX LIMITED AUTOMÁTICO</td>\n",
       "      <td>2017</td>\n",
       "      <td>2017</td>\n",
       "      <td>62979</td>\n",
       "      <td>Automática</td>\n",
       "      <td>4</td>\n",
       "      <td>Sedã</td>\n",
       "      <td>N</td>\n",
       "      <td>Branco</td>\n",
       "      <td>PF</td>\n",
       "      <td>Belo Horizonte</td>\n",
       "      <td>Minas Gerais (MG)</td>\n",
       "      <td>Pessoa Física</td>\n",
       "      <td>False</td>\n",
       "      <td>False</td>\n",
       "      <td>False</td>\n",
       "      <td>Aceita troca</td>\n",
       "      <td>NaN</td>\n",
       "      <td>NaN</td>\n",
       "      <td>IPVA pago</td>\n",
       "      <td>NaN</td>\n",
       "      <td>NaN</td>\n",
       "      <td>NaN</td>\n",
       "      <td>NaN</td>\n",
       "      <td>81965.33263</td>\n",
       "    </tr>\n",
       "    <tr>\n",
       "      <th>2</th>\n",
       "      <td>56414460810621048900295678236538171981</td>\n",
       "      <td>16.0</td>\n",
       "      <td>KIA</td>\n",
       "      <td>SORENTO</td>\n",
       "      <td>2.4 16V GASOLINA EX 7L AWD AUTOMÁTICO</td>\n",
       "      <td>2018</td>\n",
       "      <td>2019</td>\n",
       "      <td>44070</td>\n",
       "      <td>Automática</td>\n",
       "      <td>4</td>\n",
       "      <td>Sedã</td>\n",
       "      <td>N</td>\n",
       "      <td>Preto</td>\n",
       "      <td>PJ</td>\n",
       "      <td>Santos</td>\n",
       "      <td>São Paulo (SP)</td>\n",
       "      <td>Loja</td>\n",
       "      <td>True</td>\n",
       "      <td>False</td>\n",
       "      <td>False</td>\n",
       "      <td>Aceita troca</td>\n",
       "      <td>NaN</td>\n",
       "      <td>NaN</td>\n",
       "      <td>NaN</td>\n",
       "      <td>NaN</td>\n",
       "      <td>NaN</td>\n",
       "      <td>NaN</td>\n",
       "      <td>NaN</td>\n",
       "      <td>162824.81450</td>\n",
       "    </tr>\n",
       "    <tr>\n",
       "      <th>3</th>\n",
       "      <td>56862509826849933428086372390159405545</td>\n",
       "      <td>14.0</td>\n",
       "      <td>VOLKSWAGEN</td>\n",
       "      <td>AMAROK</td>\n",
       "      <td>2.0 HIGHLINE 4X4 CD 16V TURBO INTERCOOLER DIES...</td>\n",
       "      <td>2013</td>\n",
       "      <td>2015</td>\n",
       "      <td>85357</td>\n",
       "      <td>Automática</td>\n",
       "      <td>4</td>\n",
       "      <td>Picape</td>\n",
       "      <td>N</td>\n",
       "      <td>Branco</td>\n",
       "      <td>PJ</td>\n",
       "      <td>Sorocaba</td>\n",
       "      <td>São Paulo (SP)</td>\n",
       "      <td>Loja</td>\n",
       "      <td>True</td>\n",
       "      <td>True</td>\n",
       "      <td>False</td>\n",
       "      <td>Aceita troca</td>\n",
       "      <td>NaN</td>\n",
       "      <td>NaN</td>\n",
       "      <td>IPVA pago</td>\n",
       "      <td>Licenciado</td>\n",
       "      <td>NaN</td>\n",
       "      <td>NaN</td>\n",
       "      <td>NaN</td>\n",
       "      <td>123681.35890</td>\n",
       "    </tr>\n",
       "    <tr>\n",
       "      <th>4</th>\n",
       "      <td>338980975753200343894519909855598027197</td>\n",
       "      <td>8.0</td>\n",
       "      <td>SSANGYONG</td>\n",
       "      <td>KORANDO</td>\n",
       "      <td>2.0 GLS 4X4 16V TURBO DIESEL 4P AUTOMÁTICO</td>\n",
       "      <td>2013</td>\n",
       "      <td>2015</td>\n",
       "      <td>71491</td>\n",
       "      <td>Automática</td>\n",
       "      <td>4</td>\n",
       "      <td>Utilitário esportivo</td>\n",
       "      <td>N</td>\n",
       "      <td>Preto</td>\n",
       "      <td>PF</td>\n",
       "      <td>Rio de Janeiro</td>\n",
       "      <td>Rio de Janeiro (RJ)</td>\n",
       "      <td>Pessoa Física</td>\n",
       "      <td>False</td>\n",
       "      <td>False</td>\n",
       "      <td>False</td>\n",
       "      <td>NaN</td>\n",
       "      <td>NaN</td>\n",
       "      <td>Todas as revisões feitas pela concessionária</td>\n",
       "      <td>NaN</td>\n",
       "      <td>NaN</td>\n",
       "      <td>Garantia de fábrica</td>\n",
       "      <td>Todas as revisões feitas pela agenda do carro</td>\n",
       "      <td>NaN</td>\n",
       "      <td>82419.76389</td>\n",
       "    </tr>\n",
       "  </tbody>\n",
       "</table>\n",
       "</div>"
      ],
      "text/plain": [
       "                                        id  num_fotos       marca   modelo  \\\n",
       "0  300716223898539419613863097469899222392        8.0      NISSAN    KICKS   \n",
       "1  279639842134129588306469566150288644214        8.0        JEEP  COMPASS   \n",
       "2   56414460810621048900295678236538171981       16.0         KIA  SORENTO   \n",
       "3   56862509826849933428086372390159405545       14.0  VOLKSWAGEN   AMAROK   \n",
       "4  338980975753200343894519909855598027197        8.0   SSANGYONG  KORANDO   \n",
       "\n",
       "                                              versao  ano_de_fabricacao  \\\n",
       "0                    1.6 16V FLEXSTART SL 4P XTRONIC               2017   \n",
       "1                    2.0 16V FLEX LIMITED AUTOMÁTICO               2017   \n",
       "2              2.4 16V GASOLINA EX 7L AWD AUTOMÁTICO               2018   \n",
       "3  2.0 HIGHLINE 4X4 CD 16V TURBO INTERCOOLER DIES...               2013   \n",
       "4         2.0 GLS 4X4 16V TURBO DIESEL 4P AUTOMÁTICO               2013   \n",
       "\n",
       "   ano_modelo  hodometro      cambio  num_portas                  tipo  \\\n",
       "0        2017      67772         CVT           4                  Sedã   \n",
       "1        2017      62979  Automática           4                  Sedã   \n",
       "2        2019      44070  Automática           4                  Sedã   \n",
       "3        2015      85357  Automática           4                Picape   \n",
       "4        2015      71491  Automática           4  Utilitário esportivo   \n",
       "\n",
       "  blindado     cor tipo_vendedor cidade_vendedor      estado_vendedor  \\\n",
       "0        N  Branco            PF  Rio de Janeiro       São Paulo (SP)   \n",
       "1        N  Branco            PF  Belo Horizonte    Minas Gerais (MG)   \n",
       "2        N   Preto            PJ          Santos       São Paulo (SP)   \n",
       "3        N  Branco            PJ        Sorocaba       São Paulo (SP)   \n",
       "4        N   Preto            PF  Rio de Janeiro  Rio de Janeiro (RJ)   \n",
       "\n",
       "      anunciante  entrega_delivery  troca  elegivel_revisao dono_aceita_troca  \\\n",
       "0  Pessoa Física             False  False             False               NaN   \n",
       "1  Pessoa Física             False  False             False      Aceita troca   \n",
       "2           Loja              True  False             False      Aceita troca   \n",
       "3           Loja              True   True             False      Aceita troca   \n",
       "4  Pessoa Física             False  False             False               NaN   \n",
       "\n",
       "  veiculo_único_dono                       revisoes_concessionaria  ipva_pago  \\\n",
       "0                NaN  Todas as revisões feitas pela concessionária  IPVA pago   \n",
       "1                NaN                                           NaN  IPVA pago   \n",
       "2                NaN                                           NaN        NaN   \n",
       "3                NaN                                           NaN  IPVA pago   \n",
       "4                NaN  Todas as revisões feitas pela concessionária        NaN   \n",
       "\n",
       "  veiculo_licenciado  garantia_de_fábrica  \\\n",
       "0         Licenciado                  NaN   \n",
       "1                NaN                  NaN   \n",
       "2                NaN                  NaN   \n",
       "3         Licenciado                  NaN   \n",
       "4                NaN  Garantia de fábrica   \n",
       "\n",
       "                          revisoes_dentro_agenda  veiculo_alienado  \\\n",
       "0                                            NaN               NaN   \n",
       "1                                            NaN               NaN   \n",
       "2                                            NaN               NaN   \n",
       "3                                            NaN               NaN   \n",
       "4  Todas as revisões feitas pela agenda do carro               NaN   \n",
       "\n",
       "          preco  \n",
       "0   74732.59008  \n",
       "1   81965.33263  \n",
       "2  162824.81450  \n",
       "3  123681.35890  \n",
       "4   82419.76389  "
      ]
     },
     "execution_count": 2,
     "metadata": {},
     "output_type": "execute_result"
    }
   ],
   "source": [
    "train_data = pd.read_csv('datasets/cars_train.csv')\n",
    "train_data.head()"
   ]
  },
  {
   "cell_type": "code",
   "execution_count": 3,
   "metadata": {},
   "outputs": [
    {
     "name": "stdout",
     "output_type": "stream",
     "text": [
      "O dataframe possui 29584 linhas e 29 colunas.\n"
     ]
    }
   ],
   "source": [
    "print(f\"O dataframe possui {train_data.shape[0]} linhas e {train_data.shape[1]} colunas.\")"
   ]
  },
  {
   "cell_type": "code",
   "execution_count": 4,
   "metadata": {},
   "outputs": [
    {
     "name": "stdout",
     "output_type": "stream",
     "text": [
      "<class 'pandas.core.frame.DataFrame'>\n",
      "RangeIndex: 29584 entries, 0 to 29583\n",
      "Data columns (total 29 columns):\n",
      " #   Column                   Non-Null Count  Dtype  \n",
      "---  ------                   --------------  -----  \n",
      " 0   id                       29584 non-null  object \n",
      " 1   num_fotos                29407 non-null  float64\n",
      " 2   marca                    29584 non-null  object \n",
      " 3   modelo                   29584 non-null  object \n",
      " 4   versao                   29584 non-null  object \n",
      " 5   ano_de_fabricacao        29584 non-null  int64  \n",
      " 6   ano_modelo               29584 non-null  int64  \n",
      " 7   hodometro                29584 non-null  int64  \n",
      " 8   cambio                   29584 non-null  object \n",
      " 9   num_portas               29584 non-null  int64  \n",
      " 10  tipo                     29584 non-null  object \n",
      " 11  blindado                 29584 non-null  object \n",
      " 12  cor                      29584 non-null  object \n",
      " 13  tipo_vendedor            29584 non-null  object \n",
      " 14  cidade_vendedor          29584 non-null  object \n",
      " 15  estado_vendedor          29584 non-null  object \n",
      " 16  anunciante               29584 non-null  object \n",
      " 17  entrega_delivery         29584 non-null  bool   \n",
      " 18  troca                    29584 non-null  bool   \n",
      " 19  elegivel_revisao         29584 non-null  bool   \n",
      " 20  dono_aceita_troca        21922 non-null  object \n",
      " 21  veiculo_único_dono       10423 non-null  object \n",
      " 22  revisoes_concessionaria  9172 non-null   object \n",
      " 23  ipva_pago                19659 non-null  object \n",
      " 24  veiculo_licenciado       15906 non-null  object \n",
      " 25  garantia_de_fábrica      4365 non-null   object \n",
      " 26  revisoes_dentro_agenda   5910 non-null   object \n",
      " 27  veiculo_alienado         0 non-null      float64\n",
      " 28  preco                    29584 non-null  float64\n",
      "dtypes: bool(3), float64(3), int64(4), object(19)\n",
      "memory usage: 6.0+ MB\n"
     ]
    }
   ],
   "source": [
    "train_data.info()"
   ]
  },
  {
   "cell_type": "code",
   "execution_count": 5,
   "metadata": {},
   "outputs": [
    {
     "name": "stdout",
     "output_type": "stream",
     "text": [
      "Temos 7 colunas numéricas e 22 colunas não-numéricas.\n"
     ]
    }
   ],
   "source": [
    "numerics = [\"int16\", \"int32\", \"int64\", \"float16\", \"float32\", \"float64\"]\n",
    "\n",
    "numericas = train_data.select_dtypes(include=numerics)\n",
    "\n",
    "nao_numericas = train_data.select_dtypes(exclude=numerics)\n",
    "\n",
    "print(\n",
    "    f\"Temos {numericas.shape[1]} colunas numéricas e {nao_numericas.shape[1]} colunas não-numéricas.\"\n",
    ")"
   ]
  },
  {
   "cell_type": "markdown",
   "metadata": {},
   "source": [
    "Percebe-se que algumas colunas apresentam dados ausentes (NaN). São elas: \n",
    "\n",
    "- coluna #1 (num_fotos)\n",
    "- coluna #20 (dono_aceita_troca) \n",
    "- coluna #21 (veiculo_único_dono) \n",
    "- coluna #22 (revisoes_concessionaria) \n",
    "- coluna #23 (ipva_pago) \n",
    "- coluna #24 (veiculo_licenciado) \n",
    "- coluna #25 (garantia_de_fábrica) \n",
    "- coluna #26 (revisoes_dentro_agenda)\n",
    "- coluna #27 (veiculo_alienado)\n",
    "\n",
    "Nesse sentido, é importante realizar uma avaliação dessas colunas e, se possível, aplicar um tratamento adequado para deixar nossa base de treino em condições adequadas."
   ]
  },
  {
   "cell_type": "markdown",
   "metadata": {},
   "source": [
    "## Tratando o Dataset de Treino"
   ]
  },
  {
   "cell_type": "code",
   "execution_count": 6,
   "metadata": {},
   "outputs": [
    {
     "data": {
      "text/plain": [
       "(array([ 8., 16., 14., 13., 15., 20., 11.,  9., 18., 17., 12., nan, 19.,\n",
       "        21., 10.]),\n",
       " array([nan, 'Aceita troca'], dtype=object),\n",
       " array([nan, 'Único dono'], dtype=object),\n",
       " array(['Todas as revisões feitas pela concessionária', nan], dtype=object),\n",
       " array(['IPVA pago', nan], dtype=object),\n",
       " array(['Licenciado', nan], dtype=object),\n",
       " array([nan, 'Garantia de fábrica'], dtype=object),\n",
       " array([nan, 'Todas as revisões feitas pela agenda do carro'], dtype=object),\n",
       " array([nan]))"
      ]
     },
     "execution_count": 6,
     "metadata": {},
     "output_type": "execute_result"
    }
   ],
   "source": [
    "train_data.num_fotos.unique(), \\\n",
    "    train_data.dono_aceita_troca.unique(), \\\n",
    "        train_data.veiculo_único_dono.unique(), \\\n",
    "            train_data.revisoes_concessionaria.unique(), \\\n",
    "                train_data.ipva_pago.unique(), \\\n",
    "                    train_data.veiculo_licenciado.unique(), \\\n",
    "                        train_data.garantia_de_fábrica.unique(), \\\n",
    "                            train_data.revisoes_dentro_agenda.unique(), \\\n",
    "                                train_data.veiculo_alienado.unique()"
   ]
  },
  {
   "cell_type": "markdown",
   "metadata": {},
   "source": [
    "Na coluna #1 (num_fotos) e da coluna #20 (dono_aceita_troca) até a coluna #26 (revisoes_dentro_agenda) é importante realizar uma avaliação minuciosa e, se possível, aplicar um tratamento adequado para deixar a base de treino em condições adequadas.\n",
    "\n",
    "No que diz respeito à coluna #27 (veiculo_alienado), nota-se que ela está preenchida inteiramente com valores NaN, ou seja, todos os seus dados estão ausentes. Diante dessa situação, podemos inferir que esta coluna não possui informações relevantes para a nossa análise. A presença generalizada de valores ausentes sugere que tal variável pode não ter sido devidamente preenchida ou que não apresenta dados significativos para a investigação em questão.\n",
    "\n",
    "Portanto, considerando essa constatação, é sensato desconsiderar a coluna 'veiculo_alienado' em nossa análise, uma vez que sua ausência de informações inviabiliza qualquer conclusão ou insight relevante que possa ser obtido a partir dela. "
   ]
  },
  {
   "cell_type": "code",
   "execution_count": 7,
   "metadata": {},
   "outputs": [],
   "source": [
    "# Removendo a coluna #27 'veiculo_alienado'\n",
    "\n",
    "train_data = train_data.drop(columns=['veiculo_alienado'])\n",
    "\n",
    "# Arredondando as casas decimais da coluna preço\n",
    "train_data['preco'] = train_data['preco'].round(2)"
   ]
  },
  {
   "cell_type": "code",
   "execution_count": 8,
   "metadata": {},
   "outputs": [
    {
     "name": "stdout",
     "output_type": "stream",
     "text": [
      "O dataframe possui 29584 linhas e 28 colunas.\n"
     ]
    }
   ],
   "source": [
    "print(f\"O dataframe possui {train_data.shape[0]} linhas e {train_data.shape[1]} colunas.\")"
   ]
  },
  {
   "cell_type": "code",
   "execution_count": 9,
   "metadata": {},
   "outputs": [],
   "source": [
    "# Substituindo os NaN nas colunas #1 (num_fotos) e da coluna #20 (dono_aceita_troca) até a coluna #26 (revisoes_dentro_agenda)\n",
    "\n",
    "train_data['num_fotos'] = train_data['num_fotos'].fillna(0)\n",
    "train_data['dono_aceita_troca'] = train_data['dono_aceita_troca'].fillna('Não aceita troca') \n",
    "train_data['veiculo_único_dono'] = train_data['veiculo_único_dono'].fillna('Mais de um dono') \n",
    "train_data['revisoes_concessionaria'] = train_data['revisoes_concessionaria'].fillna('Nem todas as revisões feitas pela concessionária') \n",
    "train_data['ipva_pago'] = train_data['ipva_pago'].fillna('IPVA não pago') \n",
    "train_data['veiculo_licenciado'] = train_data['veiculo_licenciado'].fillna('Não Licenciado') \n",
    "train_data['garantia_de_fábrica'] = train_data['garantia_de_fábrica'].fillna('Não possui garantia de fábrica') \n",
    "train_data['revisoes_dentro_agenda'] = train_data['revisoes_dentro_agenda'].fillna('Nem todas as revisões feitas pela agenda do carro') \n",
    "\n"
   ]
  },
  {
   "cell_type": "code",
   "execution_count": 10,
   "metadata": {},
   "outputs": [
    {
     "name": "stdout",
     "output_type": "stream",
     "text": [
      "<class 'pandas.core.frame.DataFrame'>\n",
      "RangeIndex: 29584 entries, 0 to 29583\n",
      "Data columns (total 28 columns):\n",
      " #   Column                   Non-Null Count  Dtype  \n",
      "---  ------                   --------------  -----  \n",
      " 0   id                       29584 non-null  object \n",
      " 1   num_fotos                29584 non-null  float64\n",
      " 2   marca                    29584 non-null  object \n",
      " 3   modelo                   29584 non-null  object \n",
      " 4   versao                   29584 non-null  object \n",
      " 5   ano_de_fabricacao        29584 non-null  int64  \n",
      " 6   ano_modelo               29584 non-null  int64  \n",
      " 7   hodometro                29584 non-null  int64  \n",
      " 8   cambio                   29584 non-null  object \n",
      " 9   num_portas               29584 non-null  int64  \n",
      " 10  tipo                     29584 non-null  object \n",
      " 11  blindado                 29584 non-null  object \n",
      " 12  cor                      29584 non-null  object \n",
      " 13  tipo_vendedor            29584 non-null  object \n",
      " 14  cidade_vendedor          29584 non-null  object \n",
      " 15  estado_vendedor          29584 non-null  object \n",
      " 16  anunciante               29584 non-null  object \n",
      " 17  entrega_delivery         29584 non-null  bool   \n",
      " 18  troca                    29584 non-null  bool   \n",
      " 19  elegivel_revisao         29584 non-null  bool   \n",
      " 20  dono_aceita_troca        29584 non-null  object \n",
      " 21  veiculo_único_dono       29584 non-null  object \n",
      " 22  revisoes_concessionaria  29584 non-null  object \n",
      " 23  ipva_pago                29584 non-null  object \n",
      " 24  veiculo_licenciado       29584 non-null  object \n",
      " 25  garantia_de_fábrica      29584 non-null  object \n",
      " 26  revisoes_dentro_agenda   29584 non-null  object \n",
      " 27  preco                    29584 non-null  float64\n",
      "dtypes: bool(3), float64(2), int64(4), object(19)\n",
      "memory usage: 5.7+ MB\n"
     ]
    }
   ],
   "source": [
    "train_data.info()"
   ]
  },
  {
   "cell_type": "code",
   "execution_count": 11,
   "metadata": {},
   "outputs": [
    {
     "data": {
      "text/html": [
       "<div>\n",
       "<style scoped>\n",
       "    .dataframe tbody tr th:only-of-type {\n",
       "        vertical-align: middle;\n",
       "    }\n",
       "\n",
       "    .dataframe tbody tr th {\n",
       "        vertical-align: top;\n",
       "    }\n",
       "\n",
       "    .dataframe thead th {\n",
       "        text-align: right;\n",
       "    }\n",
       "</style>\n",
       "<table border=\"1\" class=\"dataframe\">\n",
       "  <thead>\n",
       "    <tr style=\"text-align: right;\">\n",
       "      <th></th>\n",
       "      <th>id</th>\n",
       "      <th>num_fotos</th>\n",
       "      <th>marca</th>\n",
       "      <th>modelo</th>\n",
       "      <th>versao</th>\n",
       "      <th>ano_de_fabricacao</th>\n",
       "      <th>ano_modelo</th>\n",
       "      <th>hodometro</th>\n",
       "      <th>cambio</th>\n",
       "      <th>num_portas</th>\n",
       "      <th>tipo</th>\n",
       "      <th>blindado</th>\n",
       "      <th>cor</th>\n",
       "      <th>tipo_vendedor</th>\n",
       "      <th>cidade_vendedor</th>\n",
       "      <th>estado_vendedor</th>\n",
       "      <th>anunciante</th>\n",
       "      <th>entrega_delivery</th>\n",
       "      <th>troca</th>\n",
       "      <th>elegivel_revisao</th>\n",
       "      <th>dono_aceita_troca</th>\n",
       "      <th>veiculo_único_dono</th>\n",
       "      <th>revisoes_concessionaria</th>\n",
       "      <th>ipva_pago</th>\n",
       "      <th>veiculo_licenciado</th>\n",
       "      <th>garantia_de_fábrica</th>\n",
       "      <th>revisoes_dentro_agenda</th>\n",
       "      <th>preco</th>\n",
       "    </tr>\n",
       "  </thead>\n",
       "  <tbody>\n",
       "    <tr>\n",
       "      <th>0</th>\n",
       "      <td>300716223898539419613863097469899222392</td>\n",
       "      <td>8.0</td>\n",
       "      <td>NISSAN</td>\n",
       "      <td>KICKS</td>\n",
       "      <td>1.6 16V FLEXSTART SL 4P XTRONIC</td>\n",
       "      <td>2017</td>\n",
       "      <td>2017</td>\n",
       "      <td>67772</td>\n",
       "      <td>CVT</td>\n",
       "      <td>4</td>\n",
       "      <td>Sedã</td>\n",
       "      <td>N</td>\n",
       "      <td>Branco</td>\n",
       "      <td>PF</td>\n",
       "      <td>Rio de Janeiro</td>\n",
       "      <td>São Paulo (SP)</td>\n",
       "      <td>Pessoa Física</td>\n",
       "      <td>False</td>\n",
       "      <td>False</td>\n",
       "      <td>False</td>\n",
       "      <td>Não aceita troca</td>\n",
       "      <td>Mais de um dono</td>\n",
       "      <td>Todas as revisões feitas pela concessionária</td>\n",
       "      <td>IPVA pago</td>\n",
       "      <td>Licenciado</td>\n",
       "      <td>Não possui garantia de fábrica</td>\n",
       "      <td>Nem todas as revisões feitas pela agenda do carro</td>\n",
       "      <td>74732.59</td>\n",
       "    </tr>\n",
       "    <tr>\n",
       "      <th>1</th>\n",
       "      <td>279639842134129588306469566150288644214</td>\n",
       "      <td>8.0</td>\n",
       "      <td>JEEP</td>\n",
       "      <td>COMPASS</td>\n",
       "      <td>2.0 16V FLEX LIMITED AUTOMÁTICO</td>\n",
       "      <td>2017</td>\n",
       "      <td>2017</td>\n",
       "      <td>62979</td>\n",
       "      <td>Automática</td>\n",
       "      <td>4</td>\n",
       "      <td>Sedã</td>\n",
       "      <td>N</td>\n",
       "      <td>Branco</td>\n",
       "      <td>PF</td>\n",
       "      <td>Belo Horizonte</td>\n",
       "      <td>Minas Gerais (MG)</td>\n",
       "      <td>Pessoa Física</td>\n",
       "      <td>False</td>\n",
       "      <td>False</td>\n",
       "      <td>False</td>\n",
       "      <td>Aceita troca</td>\n",
       "      <td>Mais de um dono</td>\n",
       "      <td>Nem todas as revisões feitas pela concessionária</td>\n",
       "      <td>IPVA pago</td>\n",
       "      <td>Não Licenciado</td>\n",
       "      <td>Não possui garantia de fábrica</td>\n",
       "      <td>Nem todas as revisões feitas pela agenda do carro</td>\n",
       "      <td>81965.33</td>\n",
       "    </tr>\n",
       "    <tr>\n",
       "      <th>2</th>\n",
       "      <td>56414460810621048900295678236538171981</td>\n",
       "      <td>16.0</td>\n",
       "      <td>KIA</td>\n",
       "      <td>SORENTO</td>\n",
       "      <td>2.4 16V GASOLINA EX 7L AWD AUTOMÁTICO</td>\n",
       "      <td>2018</td>\n",
       "      <td>2019</td>\n",
       "      <td>44070</td>\n",
       "      <td>Automática</td>\n",
       "      <td>4</td>\n",
       "      <td>Sedã</td>\n",
       "      <td>N</td>\n",
       "      <td>Preto</td>\n",
       "      <td>PJ</td>\n",
       "      <td>Santos</td>\n",
       "      <td>São Paulo (SP)</td>\n",
       "      <td>Loja</td>\n",
       "      <td>True</td>\n",
       "      <td>False</td>\n",
       "      <td>False</td>\n",
       "      <td>Aceita troca</td>\n",
       "      <td>Mais de um dono</td>\n",
       "      <td>Nem todas as revisões feitas pela concessionária</td>\n",
       "      <td>IPVA não pago</td>\n",
       "      <td>Não Licenciado</td>\n",
       "      <td>Não possui garantia de fábrica</td>\n",
       "      <td>Nem todas as revisões feitas pela agenda do carro</td>\n",
       "      <td>162824.81</td>\n",
       "    </tr>\n",
       "    <tr>\n",
       "      <th>3</th>\n",
       "      <td>56862509826849933428086372390159405545</td>\n",
       "      <td>14.0</td>\n",
       "      <td>VOLKSWAGEN</td>\n",
       "      <td>AMAROK</td>\n",
       "      <td>2.0 HIGHLINE 4X4 CD 16V TURBO INTERCOOLER DIES...</td>\n",
       "      <td>2013</td>\n",
       "      <td>2015</td>\n",
       "      <td>85357</td>\n",
       "      <td>Automática</td>\n",
       "      <td>4</td>\n",
       "      <td>Picape</td>\n",
       "      <td>N</td>\n",
       "      <td>Branco</td>\n",
       "      <td>PJ</td>\n",
       "      <td>Sorocaba</td>\n",
       "      <td>São Paulo (SP)</td>\n",
       "      <td>Loja</td>\n",
       "      <td>True</td>\n",
       "      <td>True</td>\n",
       "      <td>False</td>\n",
       "      <td>Aceita troca</td>\n",
       "      <td>Mais de um dono</td>\n",
       "      <td>Nem todas as revisões feitas pela concessionária</td>\n",
       "      <td>IPVA pago</td>\n",
       "      <td>Licenciado</td>\n",
       "      <td>Não possui garantia de fábrica</td>\n",
       "      <td>Nem todas as revisões feitas pela agenda do carro</td>\n",
       "      <td>123681.36</td>\n",
       "    </tr>\n",
       "    <tr>\n",
       "      <th>4</th>\n",
       "      <td>338980975753200343894519909855598027197</td>\n",
       "      <td>8.0</td>\n",
       "      <td>SSANGYONG</td>\n",
       "      <td>KORANDO</td>\n",
       "      <td>2.0 GLS 4X4 16V TURBO DIESEL 4P AUTOMÁTICO</td>\n",
       "      <td>2013</td>\n",
       "      <td>2015</td>\n",
       "      <td>71491</td>\n",
       "      <td>Automática</td>\n",
       "      <td>4</td>\n",
       "      <td>Utilitário esportivo</td>\n",
       "      <td>N</td>\n",
       "      <td>Preto</td>\n",
       "      <td>PF</td>\n",
       "      <td>Rio de Janeiro</td>\n",
       "      <td>Rio de Janeiro (RJ)</td>\n",
       "      <td>Pessoa Física</td>\n",
       "      <td>False</td>\n",
       "      <td>False</td>\n",
       "      <td>False</td>\n",
       "      <td>Não aceita troca</td>\n",
       "      <td>Mais de um dono</td>\n",
       "      <td>Todas as revisões feitas pela concessionária</td>\n",
       "      <td>IPVA não pago</td>\n",
       "      <td>Não Licenciado</td>\n",
       "      <td>Garantia de fábrica</td>\n",
       "      <td>Todas as revisões feitas pela agenda do carro</td>\n",
       "      <td>82419.76</td>\n",
       "    </tr>\n",
       "  </tbody>\n",
       "</table>\n",
       "</div>"
      ],
      "text/plain": [
       "                                        id  num_fotos       marca   modelo  \\\n",
       "0  300716223898539419613863097469899222392        8.0      NISSAN    KICKS   \n",
       "1  279639842134129588306469566150288644214        8.0        JEEP  COMPASS   \n",
       "2   56414460810621048900295678236538171981       16.0         KIA  SORENTO   \n",
       "3   56862509826849933428086372390159405545       14.0  VOLKSWAGEN   AMAROK   \n",
       "4  338980975753200343894519909855598027197        8.0   SSANGYONG  KORANDO   \n",
       "\n",
       "                                              versao  ano_de_fabricacao  \\\n",
       "0                    1.6 16V FLEXSTART SL 4P XTRONIC               2017   \n",
       "1                    2.0 16V FLEX LIMITED AUTOMÁTICO               2017   \n",
       "2              2.4 16V GASOLINA EX 7L AWD AUTOMÁTICO               2018   \n",
       "3  2.0 HIGHLINE 4X4 CD 16V TURBO INTERCOOLER DIES...               2013   \n",
       "4         2.0 GLS 4X4 16V TURBO DIESEL 4P AUTOMÁTICO               2013   \n",
       "\n",
       "   ano_modelo  hodometro      cambio  num_portas                  tipo  \\\n",
       "0        2017      67772         CVT           4                  Sedã   \n",
       "1        2017      62979  Automática           4                  Sedã   \n",
       "2        2019      44070  Automática           4                  Sedã   \n",
       "3        2015      85357  Automática           4                Picape   \n",
       "4        2015      71491  Automática           4  Utilitário esportivo   \n",
       "\n",
       "  blindado     cor tipo_vendedor cidade_vendedor      estado_vendedor  \\\n",
       "0        N  Branco            PF  Rio de Janeiro       São Paulo (SP)   \n",
       "1        N  Branco            PF  Belo Horizonte    Minas Gerais (MG)   \n",
       "2        N   Preto            PJ          Santos       São Paulo (SP)   \n",
       "3        N  Branco            PJ        Sorocaba       São Paulo (SP)   \n",
       "4        N   Preto            PF  Rio de Janeiro  Rio de Janeiro (RJ)   \n",
       "\n",
       "      anunciante  entrega_delivery  troca  elegivel_revisao dono_aceita_troca  \\\n",
       "0  Pessoa Física             False  False             False  Não aceita troca   \n",
       "1  Pessoa Física             False  False             False      Aceita troca   \n",
       "2           Loja              True  False             False      Aceita troca   \n",
       "3           Loja              True   True             False      Aceita troca   \n",
       "4  Pessoa Física             False  False             False  Não aceita troca   \n",
       "\n",
       "  veiculo_único_dono                           revisoes_concessionaria  \\\n",
       "0    Mais de um dono      Todas as revisões feitas pela concessionária   \n",
       "1    Mais de um dono  Nem todas as revisões feitas pela concessionária   \n",
       "2    Mais de um dono  Nem todas as revisões feitas pela concessionária   \n",
       "3    Mais de um dono  Nem todas as revisões feitas pela concessionária   \n",
       "4    Mais de um dono      Todas as revisões feitas pela concessionária   \n",
       "\n",
       "       ipva_pago veiculo_licenciado             garantia_de_fábrica  \\\n",
       "0      IPVA pago         Licenciado  Não possui garantia de fábrica   \n",
       "1      IPVA pago     Não Licenciado  Não possui garantia de fábrica   \n",
       "2  IPVA não pago     Não Licenciado  Não possui garantia de fábrica   \n",
       "3      IPVA pago         Licenciado  Não possui garantia de fábrica   \n",
       "4  IPVA não pago     Não Licenciado             Garantia de fábrica   \n",
       "\n",
       "                              revisoes_dentro_agenda      preco  \n",
       "0  Nem todas as revisões feitas pela agenda do carro   74732.59  \n",
       "1  Nem todas as revisões feitas pela agenda do carro   81965.33  \n",
       "2  Nem todas as revisões feitas pela agenda do carro  162824.81  \n",
       "3  Nem todas as revisões feitas pela agenda do carro  123681.36  \n",
       "4      Todas as revisões feitas pela agenda do carro   82419.76  "
      ]
     },
     "execution_count": 11,
     "metadata": {},
     "output_type": "execute_result"
    }
   ],
   "source": [
    "train_data.head()"
   ]
  },
  {
   "cell_type": "markdown",
   "metadata": {},
   "source": [
    "Com as substituições realizadas, o dataset agora possui uma melhor qualidade, pois os valores NaN foram adequadamente tratados. Essas alterações garantem a integridade dos dados, possibilitando análises mais precisas e confiáveis."
   ]
  },
  {
   "cell_type": "markdown",
   "metadata": {},
   "source": [
    "## Analisando os Dados\n"
   ]
  },
  {
   "cell_type": "code",
   "execution_count": 12,
   "metadata": {},
   "outputs": [
    {
     "name": "stdout",
     "output_type": "stream",
     "text": [
      "<class 'pandas.core.frame.DataFrame'>\n",
      "RangeIndex: 29584 entries, 0 to 29583\n",
      "Data columns (total 28 columns):\n",
      " #   Column                   Non-Null Count  Dtype  \n",
      "---  ------                   --------------  -----  \n",
      " 0   id                       29584 non-null  object \n",
      " 1   num_fotos                29584 non-null  float64\n",
      " 2   marca                    29584 non-null  object \n",
      " 3   modelo                   29584 non-null  object \n",
      " 4   versao                   29584 non-null  object \n",
      " 5   ano_de_fabricacao        29584 non-null  int64  \n",
      " 6   ano_modelo               29584 non-null  int64  \n",
      " 7   hodometro                29584 non-null  int64  \n",
      " 8   cambio                   29584 non-null  object \n",
      " 9   num_portas               29584 non-null  int64  \n",
      " 10  tipo                     29584 non-null  object \n",
      " 11  blindado                 29584 non-null  object \n",
      " 12  cor                      29584 non-null  object \n",
      " 13  tipo_vendedor            29584 non-null  object \n",
      " 14  cidade_vendedor          29584 non-null  object \n",
      " 15  estado_vendedor          29584 non-null  object \n",
      " 16  anunciante               29584 non-null  object \n",
      " 17  entrega_delivery         29584 non-null  bool   \n",
      " 18  troca                    29584 non-null  bool   \n",
      " 19  elegivel_revisao         29584 non-null  bool   \n",
      " 20  dono_aceita_troca        29584 non-null  object \n",
      " 21  veiculo_único_dono       29584 non-null  object \n",
      " 22  revisoes_concessionaria  29584 non-null  object \n",
      " 23  ipva_pago                29584 non-null  object \n",
      " 24  veiculo_licenciado       29584 non-null  object \n",
      " 25  garantia_de_fábrica      29584 non-null  object \n",
      " 26  revisoes_dentro_agenda   29584 non-null  object \n",
      " 27  preco                    29584 non-null  float64\n",
      "dtypes: bool(3), float64(2), int64(4), object(19)\n",
      "memory usage: 5.7+ MB\n"
     ]
    }
   ],
   "source": [
    "train_data.info()"
   ]
  },
  {
   "cell_type": "markdown",
   "metadata": {},
   "source": [
    "### Resumo estatístico para as colunas numéricas"
   ]
  },
  {
   "cell_type": "code",
   "execution_count": 13,
   "metadata": {},
   "outputs": [
    {
     "name": "stdout",
     "output_type": "stream",
     "text": [
      "Estatísticas Numéricas:\n",
      "          num_fotos  ano_de_fabricacao    ano_modelo      hodometro  \\\n",
      "count  29584.000000       29584.000000  29584.000000   29584.000000   \n",
      "mean      10.262067        2016.758552   2017.808985   58430.592077   \n",
      "std        3.566878           4.062422      2.673930   32561.769309   \n",
      "min        0.000000        1985.000000   1997.000000     100.000000   \n",
      "25%        8.000000        2015.000000   2016.000000   31214.000000   \n",
      "50%        8.000000        2018.000000   2018.000000   57434.000000   \n",
      "75%       14.000000        2019.000000   2020.000000   81953.500000   \n",
      "max       21.000000        2022.000000   2023.000000  390065.000000   \n",
      "\n",
      "         num_portas         preco  \n",
      "count  29584.000000  2.958400e+04  \n",
      "mean       3.940677  1.330239e+05  \n",
      "std        0.338360  8.166287e+04  \n",
      "min        2.000000  9.869950e+03  \n",
      "25%        4.000000  7.657177e+04  \n",
      "50%        4.000000  1.143558e+05  \n",
      "75%        4.000000  1.636796e+05  \n",
      "max        4.000000  1.359813e+06  \n"
     ]
    }
   ],
   "source": [
    "# Resumo estatístico para as colunas numéricas\n",
    "estatisticas_numericas = train_data.describe()\n",
    "print(\"Estatísticas Numéricas:\")\n",
    "print(estatisticas_numericas)"
   ]
  },
  {
   "cell_type": "markdown",
   "metadata": {},
   "source": [
    "### Hipóteses de Negócio"
   ]
  },
  {
   "cell_type": "code",
   "execution_count": 14,
   "metadata": {},
   "outputs": [
    {
     "data": {
      "image/png": "[encoded data removed]",
      "text/plain": [
       "<Figure size 1000x600 with 1 Axes>"
      ]
     },
     "metadata": {},
     "output_type": "display_data"
    }
   ],
   "source": [
    "# Plot do histograma\n",
    "plt.figure(figsize=(10, 6))\n",
    "plt.hist(train_data['preco'], bins=50, color='blue', alpha=0.7)\n",
    "plt.xlabel('Preço')\n",
    "plt.ylabel('Contagem')\n",
    "plt.title('Histograma da Distribuição de Preços')\n",
    "\n",
    "# Calculando e formatando os valores da média e mediana para duas casas decimais\n",
    "media = train_data['preco'].mean()\n",
    "mediana = train_data['preco'].median()\n",
    "media_label = f'Média: R${media:.2f}'\n",
    "mediana_label = f'Mediana: R${mediana:.2f}'\n",
    "\n",
    "# Adicionando as legendas da média e mediana\n",
    "plt.axvline(media, color='red', linestyle='dashed', linewidth=2, label=media_label)\n",
    "plt.axvline(mediana, color='green', linestyle='dashed', linewidth=2, label=mediana_label)\n",
    "\n",
    "# Retirando a notação científica no eixo X (preço)\n",
    "plt.ticklabel_format(axis='x', style='plain')  \n",
    "\n",
    "# Plotando o gráfico\n",
    "plt.legend()\n",
    "plt.show()"
   ]
  },
  {
   "cell_type": "markdown",
   "metadata": {},
   "source": [
    "#### Hipótese 1\n",
    "\n",
    "Com base nos valores calculados para a média e a mediana, podemos fazer algumas inferências sobre a distribuição dos dados. A média é maior que a mediana, indicando uma assimetria positiva na distribuição. Esse cenário sugere a presença de valores atípicos com valores mais altos (outliers), o que influencia a média para cima."
   ]
  },
  {
   "cell_type": "code",
   "execution_count": 15,
   "metadata": {},
   "outputs": [
    {
     "data": {
      "image/png": "[encoded data removed]",
      "text/plain": [
       "<Figure size 600x600 with 1 Axes>"
      ]
     },
     "metadata": {},
     "output_type": "display_data"
    }
   ],
   "source": [
    "# Contagem de veículos com e sem garantia de fábrica\n",
    "garantia_counts = train_data['garantia_de_fábrica'].value_counts()\n",
    "\n",
    "# Gráfico de pizza\n",
    "plt.figure(figsize=(6, 6))\n",
    "plt.pie(garantia_counts, labels=garantia_counts.index, autopct='%1.1f%%', startangle=90, colors=['lightskyblue', 'lightcoral'])\n",
    "plt.title('Proporção de Veículos com Garantia de Fábrica')\n",
    "plt.axis('equal')\n",
    "plt.show()"
   ]
  },
  {
   "cell_type": "markdown",
   "metadata": {},
   "source": [
    "#### Hipótese 2\n",
    "\n",
    "Com base nos dados do dataset, é possível observar que a maioria dos carros não possui garantia de fábrica.A ausência de garantia de fábrica pode influenciar a decisão de compra de um veículo, uma vez que muitos compradores valorizam essa garantia como um fator importante para reduzir riscos e despesas adicionais com reparos. "
   ]
  },
  {
   "cell_type": "code",
   "execution_count": null,
   "metadata": {},
   "outputs": [],
   "source": [
    "#Gráfico de Linha\n",
    "\n",
    "plt.figure(figsize=(10, 6))\n",
    "preco_medio_por_ano = train_data.groupby('ano_de_fabricacao')['preco'].mean()\n",
    "plt.plot(preco_medio_por_ano.index, preco_medio_por_ano.values, marker='o', color='orange')\n",
    "plt.xlabel('Ano de Fabricação')\n",
    "plt.ylabel('Preço Médio')\n",
    "plt.title('Evolução do Preço Médio por Ano de Fabricação')\n",
    "plt.grid(True)\n",
    "plt.show()"
   ]
  },
  {
   "cell_type": "markdown",
   "metadata": {},
   "source": [
    "#### Hipótese 3\n",
    "\n",
    "Observa-se que entre os anos de 2010 a 2015, o preço médio dos automóveis aumentou significativamente, chegando a mais que dobrar em relação aos anos anteriores. Essa variação expressiva pode ser influenciada pela presença de outliers, que são modelos mais novos ou edições especiais com preços excepcionalmente altos em comparação com os veículos comuns."
   ]
  },
  {
   "cell_type": "markdown",
   "metadata": {},
   "source": [
    "### Perguntas de Negócio"
   ]
  },
  {
   "cell_type": "markdown",
   "metadata": {},
   "source": [
    "#### Qual o melhor estado cadastrado na base de dados para se vender um carro de marca popular e por quê?"
   ]
  },
  {
   "cell_type": "code",
   "execution_count": null,
   "metadata": {},
   "outputs": [],
   "source": [
    "# Contagem de cada marca\n",
    "contagem_marcas = train_data['marca'].value_counts()\n",
    "\n",
    "# Selecionando as marcas mais frequentes como sendo as marcas populares\n",
    "marcas_populares = contagem_marcas.head(5).index.tolist()\n",
    "\n",
    "# Filtrando os dados para incluir apenas carros das marcas populares\n",
    "carros_populares = train_data[train_data['marca'].isin(marcas_populares)]\n",
    "\n",
    "# Calculando a média de preços dos carros de marcas populares por estado\n",
    "media_preco_por_estado = carros_populares.groupby('estado_vendedor')['preco'].mean().reset_index()\n",
    "\n",
    "# Encontrando o índice do estado com o maior preço médio\n",
    "indice_maior_preco = media_preco_por_estado['preco'].idxmax()\n",
    "\n",
    "# Obtendo o nome do estado correspondente\n",
    "estado_maior_preco = media_preco_por_estado.loc[indice_maior_preco, 'estado_vendedor']\n",
    "\n",
    "print(f\"O estado com o maior preço médio dos carros das 5 marcas mais populares é: {estado_maior_preco}\")"
   ]
  },
  {
   "cell_type": "markdown",
   "metadata": {},
   "source": [
    "#### Qual o melhor estado para se comprar uma picape com transmissão automática e por quê?"
   ]
  },
  {
   "cell_type": "code",
   "execution_count": null,
   "metadata": {},
   "outputs": [],
   "source": [
    "# Filtrando os dados para incluir apenas carros que são picapes e têm transmissão automática\n",
    "picapes_trans_auto = train_data[(train_data['tipo'] == 'Picape') & (train_data['cambio'] == 'Automática')]\n",
    "\n",
    "# Calculando a média de preços das picapes com transmissão automática por estado\n",
    "media_preco_por_estado = picapes_trans_auto.groupby('estado_vendedor')['preco'].mean().reset_index()\n",
    "\n",
    "# Encontrando o índice do estado com o menor preço médio\n",
    "indice_menor_preco = media_preco_por_estado['preco'].idxmin()\n",
    "\n",
    "# Obtendo o nome do estado correspondente\n",
    "estado_menor_preco = media_preco_por_estado.loc[indice_menor_preco, 'estado_vendedor']\n",
    "\n",
    "# Calculando o preço médio das picapes com transmissão automática para o estado com menor preço médio\n",
    "preco_medio_menor_preco = media_preco_por_estado.loc[indice_menor_preco, 'preco']\n",
    "\n",
    "print(f\"O estado com o menor preço médio das picapes com transmissão automática é: {estado_menor_preco}\")\n",
    "print(f\"O preço médio das picapes com transmissão automática nesse estado é: R${preco_medio_menor_preco:.2f}\")"
   ]
  },
  {
   "cell_type": "markdown",
   "metadata": {},
   "source": [
    "#### Qual o melhor estado para se comprar carros que ainda estejam dentro da garantia de fábrica e por quê?"
   ]
  },
  {
   "cell_type": "code",
   "execution_count": null,
   "metadata": {},
   "outputs": [],
   "source": [
    "# Filtrando os dados para incluir apenas carros que possuam garantia de fábrica\n",
    "carros_com_garantia = train_data[train_data['garantia_de_fábrica'] == 'Garantia de fábrica']\n",
    "\n",
    "# Calculando a média de preços dos carros com garantia de fábrica por estado\n",
    "media_preco_por_estado = carros_com_garantia.groupby('estado_vendedor')['preco'].mean().reset_index()\n",
    "\n",
    "# Encontrando o índice do estado com o menor preço médio\n",
    "indice_menor_preco = media_preco_por_estado['preco'].idxmin()\n",
    "\n",
    "# Obteno o nome do estado correspondente\n",
    "estado_menor_preco = media_preco_por_estado.loc[indice_menor_preco, 'estado_vendedor']\n",
    "\n",
    "# Calculando o preço médio dos carros com garantia de fábrica para o estado com menor preço médio\n",
    "preco_medio_menor_preco = media_preco_por_estado.loc[indice_menor_preco, 'preco']\n",
    "\n",
    "print(f\"O estado com o menor preço médio dos carros com garantia de fábrica é: {estado_menor_preco}\")\n",
    "print(f\"O preço médio dos carros com garantia de fábrica nesse estado é: R${preco_medio_menor_preco:.2f}\")"
   ]
  },
  {
   "cell_type": "markdown",
   "metadata": {},
   "source": [
    "## Modelo Preditivo"
   ]
  },
  {
   "cell_type": "markdown",
   "metadata": {},
   "source": [
    "O problema de prever o preço de um carro com base nas características fornecidas no dataset, nesse caso o mais indicado seria um modelo de regressão, pois o objetivo é estimar um valor contínuo, como uma variável numérica, utilizando um conjunto de variáveis independentes como entrada. Nesse dataset específico, a variável que desejamos prever é o preço do carro, que é uma variável numérica e contínua.\n",
    "\n",
    "Através de algoritmos de regressão, nosso objetivo é criar um modelo capaz de mapear as características do carro para um valor numérico correspondente ao seu preço, permitindo realizar previsões sobre o preço de carros desconhecidos com base nos padrões identificados nos dados de treinamento.\n",
    "\n",
    "Prós:\n",
    "\n",
    "- Eficiência computacional;\n",
    "- Interpretação dos coeficientes;\n",
    "- Simplicidade\n",
    "\n",
    "Contras: \n",
    "\n",
    "- Overfitting;\n",
    "- Sensibilidade a Outliers;\n",
    "- Suposições de erros"
   ]
  },
  {
   "cell_type": "markdown",
   "metadata": {},
   "source": [
    "#### Quais variáveis e/ou suas transformações você utilizou e por quê?"
   ]
  },
  {
   "cell_type": "markdown",
   "metadata": {},
   "source": [
    "As "
   ]
  },
  {
   "cell_type": "markdown",
   "metadata": {},
   "source": [
    "\n",
    "O problema de prever o preço de um carro com base nas características fornecidas no dataset é um problema de regressão.\n",
    "\n",
    "Em problemas de regressão, o objetivo é prever um valor contínuo, como uma variável numérica, a partir de um conjunto de variáveis independentes. No caso desse dataset, a variável alvo é o preço do carro, que é uma variável numérica e contínua."
   ]
  },
  {
   "cell_type": "code",
   "execution_count": null,
   "metadata": {},
   "outputs": [],
   "source": [
    "from sklearn.model_selection import train_test_split"
   ]
  },
  {
   "cell_type": "code",
   "execution_count": null,
   "metadata": {},
   "outputs": [],
   "source": [
    "X_train, X_val, y_train, y_val = train_test_split(train_data.drop('preco', axis=1),\n",
    "                                                  train_data['preco'],\n",
    "                                                  test_size=0.25,\n",
    "                                                  random_state=42)"
   ]
  },
  {
   "cell_type": "code",
   "execution_count": null,
   "metadata": {},
   "outputs": [],
   "source": [
    "X_train.shape, X_val.shape, y_train.shape, y_val.shape"
   ]
  },
  {
   "cell_type": "code",
   "execution_count": null,
   "metadata": {},
   "outputs": [],
   "source": [
    "X_train"
   ]
  },
  {
   "cell_type": "markdown",
   "metadata": {},
   "source": [
    "## Carregando Dataset de Test"
   ]
  }
 ],
 "metadata": {
  "kernelspec": {
   "display_name": "Python 3",
   "language": "python",
   "name": "python3"
  },
  "language_info": {
   "codemirror_mode": {
    "name": "ipython",
    "version": 3
   },
   "file_extension": ".py",
   "mimetype": "text/x-python",
   "name": "python",
   "nbconvert_exporter": "python",
   "pygments_lexer": "ipython3",
   "version": "3.11.4"
  },
  "orig_nbformat": 4
 },
 "nbformat": 4,
 "nbformat_minor": 2
}
